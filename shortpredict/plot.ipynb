{
 "cells": [
  {
   "cell_type": "code",
   "execution_count": 1,
   "id": "90c87d9a",
   "metadata": {},
   "outputs": [],
   "source": [
    "import torch\n",
    "import numpy as np\n",
    "import matplotlib.pyplot as plt\n",
    "import seaborn as sns"
   ]
  },
  {
   "cell_type": "code",
   "execution_count": 2,
   "id": "c67aaffa",
   "metadata": {},
   "outputs": [],
   "source": [
    "def plot_heatmaps(checkpoint_path):\n",
    "    # 加载数据\n",
    "    salt_pred = torch.load(f\"{checkpoint_path}/salt_pred.pt\").numpy()\n",
    "    salt_real = torch.load(f\"{checkpoint_path}/salt_real.pt\").numpy()\n",
    "    temp_pred = torch.load(f\"{checkpoint_path}/temperature_pred.pt\").numpy()\n",
    "    temp_real = torch.load(f\"{checkpoint_path}/temperature_real.pt\").numpy()\n",
    "    all_pred = torch.load(f\"{checkpoint_path}/all_pred.pt\").numpy()\n",
    "    all_real = torch.load(f\"{checkpoint_path}/all_real.pt\").numpy()\n",
    "\n",
    "    # 计算误差矩阵\n",
    "    def process_data(pred, real, is_all=False):\n",
    "        if is_all:\n",
    "            # all数据需要分解salt和temperature\n",
    "            salt_err = np.abs(pred[..., 0] - real[..., 0])  # [716, 12, 576]\n",
    "            temp_err = np.abs(pred[..., 1] - real[..., 1])\n",
    "            err = (salt_err + temp_err) / 2  # 平均误差\n",
    "        else:\n",
    "            err = np.abs(pred - real).squeeze()  # [716, 12, 576]\n",
    "        \n",
    "        # 按时间步聚合（取样本平均）\n",
    "        err_mean = err.mean(axis=0)  # [12, 576]\n",
    "        return err_mean.reshape(12, 24, 24)  # 转为网格\n",
    "\n",
    "    # 处理三组数据\n",
    "    salt_err = process_data(salt_pred, salt_real)\n",
    "    temp_err = process_data(temp_pred, temp_real)\n",
    "    all_err = process_data(all_pred, all_real, is_all=True)\n",
    "\n",
    "    # 创建三张画布\n",
    "    variables = ['Salt Error', 'Temperature Error', 'Combined Error']\n",
    "    data_list = [salt_err, temp_err, all_err]\n",
    "    \n",
    "    for var_name, data in zip(variables, data_list):\n",
    "        plt.figure(figsize=(24, 18))\n",
    "        plt.suptitle(var_name, fontsize=16, y=0.95)\n",
    "        \n",
    "        # 统一颜色范围\n",
    "        vmax = np.max(data)\n",
    "        vmin = np.min(data)\n",
    "        \n",
    "        # 绘制12个子图\n",
    "        for t in range(12):\n",
    "            plt.subplot(3, 4, t+1)\n",
    "            sns.heatmap(data[t], cmap='viridis', \n",
    "                       vmin=vmin, vmax=vmax,\n",
    "                       cbar_kws={'label': 'Error Value'})\n",
    "            plt.title(f'Time Step {t+1}')\n",
    "            plt.xlabel('X Grid')\n",
    "            plt.ylabel('Y Grid')\n",
    "            \n",
    "        plt.tight_layout()\n",
    "        plt.savefig(f\"{checkpoint_path}/{var_name.replace(' ', '_')}_heatmap.png\")\n",
    "        plt.close()"
   ]
  },
  {
   "cell_type": "code",
   "execution_count": 3,
   "id": "5ad7b0ce",
   "metadata": {},
   "outputs": [],
   "source": [
    "if __name__ == \"__main__\":\n",
    "    # 使用示例\n",
    "    checkpoint_path = \"./logs/2025-04-13-12-03-12-eastsea\"  # 替换为实际路径\n",
    "    plot_heatmaps(checkpoint_path)"
   ]
  }
 ],
 "metadata": {
  "kernelspec": {
   "display_name": "statistical_modeling",
   "language": "python",
   "name": "python3"
  },
  "language_info": {
   "codemirror_mode": {
    "name": "ipython",
    "version": 3
   },
   "file_extension": ".py",
   "mimetype": "text/x-python",
   "name": "python",
   "nbconvert_exporter": "python",
   "pygments_lexer": "ipython3",
   "version": "3.6.13"
  }
 },
 "nbformat": 4,
 "nbformat_minor": 5
}
